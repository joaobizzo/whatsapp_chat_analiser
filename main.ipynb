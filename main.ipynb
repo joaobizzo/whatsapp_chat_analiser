{
 "cells": [
  {
   "cell_type": "code",
   "execution_count": 15,
   "metadata": {},
   "outputs": [],
   "source": [
    "import pandas as pd"
   ]
  },
  {
   "cell_type": "code",
   "execution_count": 58,
   "metadata": {},
   "outputs": [],
   "source": [
    "df = pd.read_csv('files/final_chat.csv', sep=';', header=None, names=['date', 'time', 'author', 'message'])"
   ]
  },
  {
   "cell_type": "code",
   "execution_count": 59,
   "metadata": {},
   "outputs": [],
   "source": [
    "# Clean up the 'date' column by removing non-numeric characters\n",
    "df['date'] = df['date'].str.replace('[^0-9/]', '', regex=True)\n",
    "\n",
    "# Convert the 'date' column to pandas datetime format\n",
    "df['date'] = pd.to_datetime(df['date'], format='%d/%m/%Y', errors='coerce')\n",
    "\n",
    "# Convert the 'time' column to pandas datetime format\n",
    "df['time'] = pd.to_datetime(df['time'], format='%H:%M:%S', errors='coerce').dt.time\n"
   ]
  },
  {
   "cell_type": "code",
   "execution_count": 60,
   "metadata": {},
   "outputs": [
    {
     "data": {
      "text/html": [
       "<div>\n",
       "<style scoped>\n",
       "    .dataframe tbody tr th:only-of-type {\n",
       "        vertical-align: middle;\n",
       "    }\n",
       "\n",
       "    .dataframe tbody tr th {\n",
       "        vertical-align: top;\n",
       "    }\n",
       "\n",
       "    .dataframe thead th {\n",
       "        text-align: right;\n",
       "    }\n",
       "</style>\n",
       "<table border=\"1\" class=\"dataframe\">\n",
       "  <thead>\n",
       "    <tr style=\"text-align: right;\">\n",
       "      <th></th>\n",
       "      <th>date</th>\n",
       "      <th>time</th>\n",
       "      <th>author</th>\n",
       "      <th>message</th>\n",
       "    </tr>\n",
       "  </thead>\n",
       "  <tbody>\n",
       "    <tr>\n",
       "      <th>0</th>\n",
       "      <td>2021-10-18</td>\n",
       "      <td>16:53:02</td>\n",
       "      <td>escolinha</td>\n",
       "      <td>As mensagens e as chamadas são protegidas com ...</td>\n",
       "    </tr>\n",
       "    <tr>\n",
       "      <th>1</th>\n",
       "      <td>2021-10-18</td>\n",
       "      <td>16:53:02</td>\n",
       "      <td>Cerbino</td>\n",
       "      <td>Cerbino mudou o nome do grupo para “Silêncio m...</td>\n",
       "    </tr>\n",
       "    <tr>\n",
       "      <th>2</th>\n",
       "      <td>2021-10-18</td>\n",
       "      <td>16:54:39</td>\n",
       "      <td>Cerbino</td>\n",
       "      <td>Cerbino foi adicionado(a)</td>\n",
       "    </tr>\n",
       "    <tr>\n",
       "      <th>3</th>\n",
       "      <td>2021-10-18</td>\n",
       "      <td>16:54:39</td>\n",
       "      <td>vitin</td>\n",
       "      <td>vitin foi adicionado(a)</td>\n",
       "    </tr>\n",
       "    <tr>\n",
       "      <th>4</th>\n",
       "      <td>2021-10-18</td>\n",
       "      <td>16:54:39</td>\n",
       "      <td>Marco</td>\n",
       "      <td>Marco foi adicionado(a)</td>\n",
       "    </tr>\n",
       "    <tr>\n",
       "      <th>...</th>\n",
       "      <td>...</td>\n",
       "      <td>...</td>\n",
       "      <td>...</td>\n",
       "      <td>...</td>\n",
       "    </tr>\n",
       "    <tr>\n",
       "      <th>107431</th>\n",
       "      <td>2023-08-04</td>\n",
       "      <td>15:24:24</td>\n",
       "      <td>Alencar</td>\n",
       "      <td>To na merda mano</td>\n",
       "    </tr>\n",
       "    <tr>\n",
       "      <th>107432</th>\n",
       "      <td>2023-08-04</td>\n",
       "      <td>15:24:29</td>\n",
       "      <td>Alencar</td>\n",
       "      <td>Estômago pesado</td>\n",
       "    </tr>\n",
       "    <tr>\n",
       "      <th>107433</th>\n",
       "      <td>2023-08-04</td>\n",
       "      <td>15:24:31</td>\n",
       "      <td>Alencar</td>\n",
       "      <td>Cabeca doendo</td>\n",
       "    </tr>\n",
       "    <tr>\n",
       "      <th>107434</th>\n",
       "      <td>2023-08-04</td>\n",
       "      <td>15:24:34</td>\n",
       "      <td>Alencar</td>\n",
       "      <td>Vtnc</td>\n",
       "    </tr>\n",
       "    <tr>\n",
       "      <th>107435</th>\n",
       "      <td>2023-08-04</td>\n",
       "      <td>15:24:40</td>\n",
       "      <td>Vesgo</td>\n",
       "      <td>Kkkkkkkk</td>\n",
       "    </tr>\n",
       "  </tbody>\n",
       "</table>\n",
       "<p>107436 rows × 4 columns</p>\n",
       "</div>"
      ],
      "text/plain": [
       "             date      time      author  \\\n",
       "0      2021-10-18  16:53:02  escolinha    \n",
       "1      2021-10-18  16:53:02     Cerbino   \n",
       "2      2021-10-18  16:54:39     Cerbino   \n",
       "3      2021-10-18  16:54:39       vitin   \n",
       "4      2021-10-18  16:54:39       Marco   \n",
       "...           ...       ...         ...   \n",
       "107431 2023-08-04  15:24:24     Alencar   \n",
       "107432 2023-08-04  15:24:29     Alencar   \n",
       "107433 2023-08-04  15:24:31     Alencar   \n",
       "107434 2023-08-04  15:24:34     Alencar   \n",
       "107435 2023-08-04  15:24:40       Vesgo   \n",
       "\n",
       "                                                  message  \n",
       "0       As mensagens e as chamadas são protegidas com ...  \n",
       "1       Cerbino mudou o nome do grupo para “Silêncio m...  \n",
       "2                               Cerbino foi adicionado(a)  \n",
       "3                                 vitin foi adicionado(a)  \n",
       "4                                 Marco foi adicionado(a)  \n",
       "...                                                   ...  \n",
       "107431                                   To na merda mano  \n",
       "107432                                    Estômago pesado  \n",
       "107433                                      Cabeca doendo  \n",
       "107434                                               Vtnc  \n",
       "107435                                           Kkkkkkkk  \n",
       "\n",
       "[107436 rows x 4 columns]"
      ]
     },
     "execution_count": 60,
     "metadata": {},
     "output_type": "execute_result"
    }
   ],
   "source": [
    "df"
   ]
  },
  {
   "cell_type": "code",
   "execution_count": 61,
   "metadata": {},
   "outputs": [
    {
     "data": {
      "text/plain": [
       "Alencar                  35869\n",
       "Julin                    10766\n",
       "Renzo Menezes             8983\n",
       "Cerbino                   8483\n",
       "Vinisso                   7102\n",
       "João Bizzo                7013\n",
       "Rafael Pedreiro           4450\n",
       "Caio                      3854\n",
       "Motinha                   3585\n",
       "Perna                     3384\n",
       "Big C                     3038\n",
       " vitin                    2388\n",
       "Brago                     1877\n",
       " Marco                    1767\n",
       " Rafael                   1358\n",
       "NOVO MARCO NOVO HOMEM     1009\n",
       "Almeida                    960\n",
       "Rivers cavalasso           623\n",
       "Vesgo                      621\n",
       " Felps                     181\n",
       " Leonardo El Madi           78\n",
       "escolinha                   37\n",
       "Você                         2\n",
       "Name: author, dtype: int64"
      ]
     },
     "execution_count": 61,
     "metadata": {},
     "output_type": "execute_result"
    }
   ],
   "source": [
    "#the rank of author with most messages\n",
    "\n",
    "rank = df['author'].value_counts()\n",
    "rank"
   ]
  },
  {
   "cell_type": "code",
   "execution_count": 63,
   "metadata": {},
   "outputs": [
    {
     "data": {
      "text/plain": [
       "Alencar                  35869\n",
       "Julin                    10766\n",
       "Renzo Menezes             8983\n",
       "Cerbino                   8483\n",
       "Vinisso                   7102\n",
       "João Bizzo                7013\n",
       "Rafael Pedreiro           4450\n",
       "Caio                      3854\n",
       "Motinha                   3585\n",
       "Perna                     3384\n",
       "Big C                     3038\n",
       " vitin                    2388\n",
       "Brago                     1877\n",
       " Marco                    1767\n",
       " Rafael                   1358\n",
       "NOVO MARCO NOVO HOMEM     1009\n",
       "Almeida                    960\n",
       "Rivers cavalasso           623\n",
       "Vesgo                      621\n",
       " Felps                     181\n",
       " Leonardo El Madi           78\n",
       "escolinha                   37\n",
       "Você                         2\n",
       "Name: author, dtype: int64"
      ]
     },
     "execution_count": 63,
     "metadata": {},
     "output_type": "execute_result"
    }
   ],
   "source": [
    "df['author'].value_counts()"
   ]
  },
  {
   "cell_type": "code",
   "execution_count": null,
   "metadata": {},
   "outputs": [],
   "source": []
  },
  {
   "cell_type": "code",
   "execution_count": null,
   "metadata": {},
   "outputs": [],
   "source": []
  },
  {
   "cell_type": "code",
   "execution_count": null,
   "metadata": {},
   "outputs": [],
   "source": []
  }
 ],
 "metadata": {
  "kernelspec": {
   "display_name": "base",
   "language": "python",
   "name": "python3"
  },
  "language_info": {
   "codemirror_mode": {
    "name": "ipython",
    "version": 3
   },
   "file_extension": ".py",
   "mimetype": "text/x-python",
   "name": "python",
   "nbconvert_exporter": "python",
   "pygments_lexer": "ipython3",
   "version": "3.9.12"
  },
  "orig_nbformat": 4
 },
 "nbformat": 4,
 "nbformat_minor": 2
}
