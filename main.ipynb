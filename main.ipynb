{
 "cells": [
  {
   "cell_type": "code",
   "execution_count": 48,
   "metadata": {},
   "outputs": [],
   "source": [
    "import pandas as pd"
   ]
  },
  {
   "cell_type": "code",
   "execution_count": 63,
   "metadata": {},
   "outputs": [],
   "source": [
    "df = pd.read_csv('files/final_chat.csv', sep=';', header=None, names=['date', 'time', 'author', 'message'])"
   ]
  },
  {
   "cell_type": "code",
   "execution_count": 65,
   "metadata": {},
   "outputs": [],
   "source": [
    "# Clean up the 'date' column by removing non-numeric characters\n",
    "df['date'] = df['date'].str.replace('[^0-9/]', '', regex=True)\n",
    "\n",
    "# Convert the 'date' column to pandas datetime format\n",
    "df['date'] = pd.to_datetime(df['date'], format='%d/%m/%Y', errors='coerce')\n",
    "\n",
    "# Convert the 'time' column to pandas datetime format\n",
    "df['time'] = pd.to_datetime(df['time'], format='%H:%M:%S', errors='coerce').dt.time\n"
   ]
  },
  {
   "cell_type": "code",
   "execution_count": 64,
   "metadata": {},
   "outputs": [],
   "source": [
    "# Remove unwanted authors\n",
    "\n",
    "df = df[df['author'] != 'escolinha ']\n",
    "df = df[df['author'] != 'Você']"
   ]
  },
  {
   "cell_type": "code",
   "execution_count": 66,
   "metadata": {},
   "outputs": [
    {
     "data": {
      "text/html": [
       "<div>\n",
       "<style scoped>\n",
       "    .dataframe tbody tr th:only-of-type {\n",
       "        vertical-align: middle;\n",
       "    }\n",
       "\n",
       "    .dataframe tbody tr th {\n",
       "        vertical-align: top;\n",
       "    }\n",
       "\n",
       "    .dataframe thead th {\n",
       "        text-align: right;\n",
       "    }\n",
       "</style>\n",
       "<table border=\"1\" class=\"dataframe\">\n",
       "  <thead>\n",
       "    <tr style=\"text-align: right;\">\n",
       "      <th></th>\n",
       "      <th>date</th>\n",
       "      <th>time</th>\n",
       "      <th>author</th>\n",
       "      <th>message</th>\n",
       "    </tr>\n",
       "  </thead>\n",
       "  <tbody>\n",
       "    <tr>\n",
       "      <th>1</th>\n",
       "      <td>2021-10-18</td>\n",
       "      <td>16:53:02</td>\n",
       "      <td>Cerbino</td>\n",
       "      <td>Cerbino mudou o nome do grupo para “Silêncio m...</td>\n",
       "    </tr>\n",
       "    <tr>\n",
       "      <th>2</th>\n",
       "      <td>2021-10-18</td>\n",
       "      <td>16:54:40</td>\n",
       "      <td>Cerbino</td>\n",
       "      <td>Cerbino foi adicionado(a)</td>\n",
       "    </tr>\n",
       "    <tr>\n",
       "      <th>3</th>\n",
       "      <td>2021-10-18</td>\n",
       "      <td>16:54:40</td>\n",
       "      <td>vitin</td>\n",
       "      <td>vitin foi adicionado(a)</td>\n",
       "    </tr>\n",
       "    <tr>\n",
       "      <th>4</th>\n",
       "      <td>2021-10-18</td>\n",
       "      <td>16:54:40</td>\n",
       "      <td>Marco</td>\n",
       "      <td>Marco foi adicionado(a)</td>\n",
       "    </tr>\n",
       "    <tr>\n",
       "      <th>5</th>\n",
       "      <td>2021-10-18</td>\n",
       "      <td>16:54:40</td>\n",
       "      <td>Rivers cavalasso</td>\n",
       "      <td>Rivers cavalasso foi adicionado(a)</td>\n",
       "    </tr>\n",
       "    <tr>\n",
       "      <th>...</th>\n",
       "      <td>...</td>\n",
       "      <td>...</td>\n",
       "      <td>...</td>\n",
       "      <td>...</td>\n",
       "    </tr>\n",
       "    <tr>\n",
       "      <th>108614</th>\n",
       "      <td>2023-08-07</td>\n",
       "      <td>13:48:50</td>\n",
       "      <td>Alencar</td>\n",
       "      <td>Ter tem na vdd</td>\n",
       "    </tr>\n",
       "    <tr>\n",
       "      <th>108615</th>\n",
       "      <td>2023-08-07</td>\n",
       "      <td>13:48:54</td>\n",
       "      <td>Alencar</td>\n",
       "      <td>Mas sustente teus vícios</td>\n",
       "    </tr>\n",
       "    <tr>\n",
       "      <th>108616</th>\n",
       "      <td>2023-08-07</td>\n",
       "      <td>13:49:01</td>\n",
       "      <td>Alencar</td>\n",
       "      <td>Triste</td>\n",
       "    </tr>\n",
       "    <tr>\n",
       "      <th>108617</th>\n",
       "      <td>2023-08-07</td>\n",
       "      <td>13:49:05</td>\n",
       "      <td>Alencar</td>\n",
       "      <td>Bem triste</td>\n",
       "    </tr>\n",
       "    <tr>\n",
       "      <th>108618</th>\n",
       "      <td>2023-08-07</td>\n",
       "      <td>13:49:33</td>\n",
       "      <td>Brago</td>\n",
       "      <td>Juros no gordao</td>\n",
       "    </tr>\n",
       "  </tbody>\n",
       "</table>\n",
       "<p>108580 rows × 4 columns</p>\n",
       "</div>"
      ],
      "text/plain": [
       "             date      time            author  \\\n",
       "1      2021-10-18  16:53:02           Cerbino   \n",
       "2      2021-10-18  16:54:40           Cerbino   \n",
       "3      2021-10-18  16:54:40             vitin   \n",
       "4      2021-10-18  16:54:40             Marco   \n",
       "5      2021-10-18  16:54:40  Rivers cavalasso   \n",
       "...           ...       ...               ...   \n",
       "108614 2023-08-07  13:48:50           Alencar   \n",
       "108615 2023-08-07  13:48:54           Alencar   \n",
       "108616 2023-08-07  13:49:01           Alencar   \n",
       "108617 2023-08-07  13:49:05           Alencar   \n",
       "108618 2023-08-07  13:49:33             Brago   \n",
       "\n",
       "                                                  message  \n",
       "1       Cerbino mudou o nome do grupo para “Silêncio m...  \n",
       "2                               Cerbino foi adicionado(a)  \n",
       "3                                 vitin foi adicionado(a)  \n",
       "4                                 Marco foi adicionado(a)  \n",
       "5                      Rivers cavalasso foi adicionado(a)  \n",
       "...                                                   ...  \n",
       "108614                                     Ter tem na vdd  \n",
       "108615                           Mas sustente teus vícios  \n",
       "108616                                             Triste  \n",
       "108617                                         Bem triste  \n",
       "108618                                    Juros no gordao  \n",
       "\n",
       "[108580 rows x 4 columns]"
      ]
     },
     "execution_count": 66,
     "metadata": {},
     "output_type": "execute_result"
    }
   ],
   "source": [
    "df"
   ]
  },
  {
   "cell_type": "code",
   "execution_count": 67,
   "metadata": {},
   "outputs": [
    {
     "data": {
      "text/plain": [
       "Alencar                  36389\n",
       "Julin                    10796\n",
       "Renzo Menezes             9156\n",
       "Cerbino                   8553\n",
       "Vinisso                   7178\n",
       "João Bizzo                7020\n",
       "Rafael Pedreiro           4482\n",
       "Caio                      3908\n",
       "Motinha                   3632\n",
       "Perna                     3387\n",
       "Big C                     3091\n",
       "vitin                     2388\n",
       "Brago                     1907\n",
       "Marco                     1767\n",
       "Rafael                    1358\n",
       "NOVO MARCO NOVO HOMEM     1039\n",
       "Almeida                    973\n",
       "Vesgo                      641\n",
       "Rivers cavalasso           623\n",
       "Felps                      184\n",
       "Leonardo El Madi           100\n",
       "Name: author, dtype: int64"
      ]
     },
     "execution_count": 67,
     "metadata": {},
     "output_type": "execute_result"
    }
   ],
   "source": [
    "#the rank of author with most messages\n",
    "\n",
    "df['author'].value_counts()"
   ]
  },
  {
   "cell_type": "code",
   "execution_count": 68,
   "metadata": {},
   "outputs": [
    {
     "data": {
      "text/plain": [
       "array(['Cerbino', 'vitin', 'Marco', 'Rivers cavalasso', 'Julin',\n",
       "       'Vinisso', 'Alencar', 'Brago', 'Caio', 'Rafael', 'João Bizzo',\n",
       "       'Motinha', 'Perna', 'Big C', 'Rafael Pedreiro', 'Almeida',\n",
       "       'Renzo Menezes', nan, 'NOVO MARCO NOVO HOMEM', 'Felps', 'Vesgo',\n",
       "       'Leonardo El Madi'], dtype=object)"
      ]
     },
     "execution_count": 68,
     "metadata": {},
     "output_type": "execute_result"
    }
   ],
   "source": [
    "df['author'].unique()"
   ]
  },
  {
   "cell_type": "code",
   "execution_count": 69,
   "metadata": {},
   "outputs": [],
   "source": [
    "# Merge marco's messages\n",
    "df['author'] = df['author'].replace('NOVO MARCO NOVO HOMEM', 'Marco')\n",
    "\n",
    "# Merge rafa's messages\n",
    "df['author'] = df['author'].replace('Rafael Pedreiro', 'Rafael')\n",
    "\n",
    "# Merge vitin's messages\n",
    "df['author'] = df['author'].replace('vitin', 'Vesgo')\n"
   ]
  },
  {
   "cell_type": "code",
   "execution_count": 70,
   "metadata": {},
   "outputs": [
    {
     "data": {
      "text/plain": [
       "Alencar             36389\n",
       "Julin               10796\n",
       "Renzo Menezes        9156\n",
       "Cerbino              8553\n",
       "Vinisso              7178\n",
       "João Bizzo           7020\n",
       "Rafael               5840\n",
       "Caio                 3908\n",
       "Motinha              3632\n",
       "Perna                3387\n",
       "Big C                3091\n",
       "Vesgo                3029\n",
       "Marco                2806\n",
       "Brago                1907\n",
       "Almeida               973\n",
       "Rivers cavalasso      623\n",
       "Felps                 184\n",
       "Leonardo El Madi      100\n",
       "Name: author, dtype: int64"
      ]
     },
     "execution_count": 70,
     "metadata": {},
     "output_type": "execute_result"
    }
   ],
   "source": [
    "#the rank of author with most messages\n",
    "\n",
    "df['author'].value_counts()\n"
   ]
  },
  {
   "cell_type": "code",
   "execution_count": 71,
   "metadata": {},
   "outputs": [
    {
     "data": {
      "text/html": [
       "<div>\n",
       "<style scoped>\n",
       "    .dataframe tbody tr th:only-of-type {\n",
       "        vertical-align: middle;\n",
       "    }\n",
       "\n",
       "    .dataframe tbody tr th {\n",
       "        vertical-align: top;\n",
       "    }\n",
       "\n",
       "    .dataframe thead th {\n",
       "        text-align: right;\n",
       "    }\n",
       "</style>\n",
       "<table border=\"1\" class=\"dataframe\">\n",
       "  <thead>\n",
       "    <tr style=\"text-align: right;\">\n",
       "      <th></th>\n",
       "      <th>message</th>\n",
       "    </tr>\n",
       "    <tr>\n",
       "      <th>author</th>\n",
       "      <th></th>\n",
       "    </tr>\n",
       "  </thead>\n",
       "  <tbody>\n",
       "    <tr>\n",
       "      <th>Alencar</th>\n",
       "      <td>36387</td>\n",
       "    </tr>\n",
       "    <tr>\n",
       "      <th>Almeida</th>\n",
       "      <td>972</td>\n",
       "    </tr>\n",
       "    <tr>\n",
       "      <th>Big C</th>\n",
       "      <td>3091</td>\n",
       "    </tr>\n",
       "    <tr>\n",
       "      <th>Brago</th>\n",
       "      <td>1907</td>\n",
       "    </tr>\n",
       "    <tr>\n",
       "      <th>Caio</th>\n",
       "      <td>3907</td>\n",
       "    </tr>\n",
       "    <tr>\n",
       "      <th>Cerbino</th>\n",
       "      <td>8553</td>\n",
       "    </tr>\n",
       "    <tr>\n",
       "      <th>Felps</th>\n",
       "      <td>184</td>\n",
       "    </tr>\n",
       "    <tr>\n",
       "      <th>João Bizzo</th>\n",
       "      <td>7018</td>\n",
       "    </tr>\n",
       "    <tr>\n",
       "      <th>Julin</th>\n",
       "      <td>10796</td>\n",
       "    </tr>\n",
       "    <tr>\n",
       "      <th>Leonardo El Madi</th>\n",
       "      <td>100</td>\n",
       "    </tr>\n",
       "    <tr>\n",
       "      <th>Marco</th>\n",
       "      <td>2805</td>\n",
       "    </tr>\n",
       "    <tr>\n",
       "      <th>Motinha</th>\n",
       "      <td>3632</td>\n",
       "    </tr>\n",
       "    <tr>\n",
       "      <th>Perna</th>\n",
       "      <td>3387</td>\n",
       "    </tr>\n",
       "    <tr>\n",
       "      <th>Rafael</th>\n",
       "      <td>5840</td>\n",
       "    </tr>\n",
       "    <tr>\n",
       "      <th>Renzo Menezes</th>\n",
       "      <td>9156</td>\n",
       "    </tr>\n",
       "    <tr>\n",
       "      <th>Rivers cavalasso</th>\n",
       "      <td>623</td>\n",
       "    </tr>\n",
       "    <tr>\n",
       "      <th>Vesgo</th>\n",
       "      <td>3029</td>\n",
       "    </tr>\n",
       "    <tr>\n",
       "      <th>Vinisso</th>\n",
       "      <td>7176</td>\n",
       "    </tr>\n",
       "  </tbody>\n",
       "</table>\n",
       "</div>"
      ],
      "text/plain": [
       "                  message\n",
       "author                   \n",
       "Alencar             36387\n",
       "Almeida               972\n",
       "Big C                3091\n",
       "Brago                1907\n",
       "Caio                 3907\n",
       "Cerbino              8553\n",
       "Felps                 184\n",
       "João Bizzo           7018\n",
       "Julin               10796\n",
       "Leonardo El Madi      100\n",
       "Marco                2805\n",
       "Motinha              3632\n",
       "Perna                3387\n",
       "Rafael               5840\n",
       "Renzo Menezes        9156\n",
       "Rivers cavalasso      623\n",
       "Vesgo                3029\n",
       "Vinisso              7176"
      ]
     },
     "execution_count": 71,
     "metadata": {},
     "output_type": "execute_result"
    }
   ],
   "source": [
    "group_message = df.groupby('author').count()\n",
    "group_message.drop(columns=['date', 'time'], inplace=True)\n",
    "group_message"
   ]
  },
  {
   "cell_type": "code",
   "execution_count": 83,
   "metadata": {},
   "outputs": [
    {
     "data": {
      "image/png": "[encoded data removed]",
      "text/plain": [
       "<Figure size 720x432 with 1 Axes>"
      ]
     },
     "metadata": {
      "needs_background": "light"
     },
     "output_type": "display_data"
    }
   ],
   "source": [
    "import matplotlib.pyplot as plt\n",
    "\n",
    "# Assuming you have a DataFrame called 'group_message' with columns 'author' and 'message_count'\n",
    "\n",
    "# Create the bar plot in ascending order of 'message_count'\n",
    "group_message.sort_values('message', ascending=False).plot.bar(color='blue')\n",
    "\n",
    "# Add labels and title\n",
    "plt.xlabel('Author')\n",
    "plt.ylabel('Message Count')\n",
    "plt.title('Message Count by Author')\n",
    "\n",
    "# Make the plot nicer and bigger\n",
    "plt.tight_layout()\n",
    "plt.rcParams['figure.figsize'] = [20, 12]\n",
    "\n",
    "# Rotate x-axis labels for better readability\n",
    "plt.xticks(rotation=45)\n",
    "\n",
    "# Display the plot\n",
    "plt.show()"
   ]
  },
  {
   "cell_type": "code",
   "execution_count": null,
   "metadata": {},
   "outputs": [],
   "source": []
  }
 ],
 "metadata": {
  "kernelspec": {
   "display_name": "base",
   "language": "python",
   "name": "python3"
  },
  "language_info": {
   "codemirror_mode": {
    "name": "ipython",
    "version": 3
   },
   "file_extension": ".py",
   "mimetype": "text/x-python",
   "name": "python",
   "nbconvert_exporter": "python",
   "pygments_lexer": "ipython3",
   "version": "3.9.12"
  },
  "orig_nbformat": 4
 },
 "nbformat": 4,
 "nbformat_minor": 2
}
